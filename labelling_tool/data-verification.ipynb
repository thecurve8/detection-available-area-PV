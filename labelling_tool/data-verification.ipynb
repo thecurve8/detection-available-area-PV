{
 "cells": [
  {
   "cell_type": "code",
   "execution_count": 1,
   "metadata": {},
   "outputs": [
    {
     "name": "stderr",
     "output_type": "stream",
     "text": [
      "Using TensorFlow backend.\n"
     ]
    }
   ],
   "source": [
    "import os, shutil\n",
    "\n",
    "import keras\n",
    "import numpy as np\n",
    "\n",
    "from PIL import Image\n",
    "\n",
    "import ipywidgets as widgets\n",
    "from ipywidgets import interact, interact_manual\n",
    "\n",
    "import matplotlib as mpl\n",
    "import matplotlib.cm as cm\n",
    "import matplotlib.pyplot as plt\n",
    "\n",
    "from matplotlib.colors import LinearSegmentedColormap, ListedColormap\n",
    "from mpl_toolkits.axes_grid1 import make_axes_locatable\n",
    "from matplotlib.ticker import FormatStrFormatter"
   ]
  },
  {
   "cell_type": "markdown",
   "metadata": {},
   "source": [
    "## Change these values"
   ]
  },
  {
   "cell_type": "code",
   "execution_count": 2,
   "metadata": {},
   "outputs": [],
   "source": [
    "root = r\"/Users/robertocastello/deneb/labelling_tool\" # The root of your git folder\n",
    "folder_verify = \"images_valid\" # The folder containing images to verify (images_valid or images_test)\n",
    "destination_folders = ['images_relabel', 'images_ignore'] # The folders to move images to"
   ]
  },
  {
   "cell_type": "markdown",
   "metadata": {},
   "source": [
    "# --------------"
   ]
  },
  {
   "cell_type": "code",
   "execution_count": 3,
   "metadata": {},
   "outputs": [],
   "source": [
    "for folder in destination_folders:\n",
    "    for subfolder in [\"labels\", \"originals\", \"noPV\"]:\n",
    "        fullfolder = os.path.join(root, folder, subfolder)\n",
    "        if not os.path.isdir(fullfolder):\n",
    "            os.makedirs(fullfolder)"
   ]
  },
  {
   "cell_type": "code",
   "execution_count": 4,
   "metadata": {},
   "outputs": [],
   "source": [
    "def load_eval_images(x_eval_dir, y_eval_dir, nopv_dir = None, valid = False):\n",
    "#     x_eval_dir = r\"C:\\Users\\SimonRoquette\\Documents\\solarPV\\new_test_images/PV/originals\"\n",
    "#     y_eval_dir = r\"C:\\Users\\SimonRoquette\\Documents\\solarPV\\new_test_images/PV/labels/\"\n",
    "#     nopv_dir = r\"C:\\Users\\SimonRoquette\\Documents\\solarPV\\images_test\\noPV\"\n",
    "\n",
    "    x_image_paths = [os.path.join(x_eval_dir, f) for f in os.listdir(x_eval_dir)]\n",
    "    x_eval = np.array([np.array(Image.open(f), dtype='uint8') for f in x_image_paths])\n",
    "    x_eval_nopad = x_eval\n",
    "    x_eval = np.pad(x_eval, ((0, 0), (3, 3), (3,3), (0, 0)), mode=\"constant\", constant_values=0)\n",
    "\n",
    "    y_image_paths = [os.path.join(os.path.dirname(os.path.dirname(f)), \"labels\", \n",
    "                                   os.path.basename(f).replace(\".png\", \"_label.png\")) for f in x_image_paths]\n",
    "    y_eval = [np.array(Image.open(f), dtype='uint8') for f in y_image_paths]\n",
    "    y_eval = np.array([a[:, :, 0] if len(a.shape) == 3 else a for a in y_eval])\n",
    "    y_eval_nopad = np.array(y_eval)\n",
    "    if valid:\n",
    "        y_eval = np.pad(y_eval, ((0, 0), (3, 3), (3,3)), mode=\"constant\", constant_values=0)\n",
    "    y_eval = np.stack((np.where(y_eval == 0, 1, 0),\n",
    "                        y_eval), axis=-1)\n",
    "    y_eval = y_eval.astype(np.bool)\n",
    "   \n",
    "    if nopv_dir is not None:\n",
    "        image_paths = [os.path.join(nopv_dir, f) for f in os.listdir(nopv_dir)]\n",
    "        x_nopv = np.array([np.array(Image.open(f), dtype='uint8') for f in image_paths])\n",
    "        x_nopv = np.pad(x_nopv, ((0, 0), (3, 3), (3,3), (0, 0)), mode=\"constant\", constant_values=0)\n",
    "\n",
    "        side = 256 if valid else 250\n",
    "        y_nopv = np.stack((np.ones((len(x_nopv), side, side), dtype=np.bool),\n",
    "                           np.zeros((len(x_nopv), side, side), dtype=np.bool)),\n",
    "                          axis=-1)\n",
    "        \n",
    "        print(\"Loaded %i Pv images, and %i non PV\" % (len(x_eval), len(x_nopv)))\n",
    "        \n",
    "        # Including noPV\n",
    "        X_test = np.concatenate((x_eval, x_nopv))\n",
    "        Y_test = np.concatenate((y_eval, y_nopv)).astype(\"float32\")\n",
    "        x_image_paths = x_image_paths + image_paths\n",
    "    else :\n",
    "        print(\"Loaded %i PV images\" % (len(x_eval)))\n",
    "        X_test = x_eval\n",
    "        Y_test = y_eval.astype(\"float32\")\n",
    "    \n",
    "    return X_test, Y_test, x_image_paths"
   ]
  },
  {
   "cell_type": "code",
   "execution_count": 5,
   "metadata": {},
   "outputs": [
    {
     "name": "stdout",
     "output_type": "stream",
     "text": [
      "Loaded 39 Pv images, and 142 non PV\n"
     ]
    }
   ],
   "source": [
    "x_test_dir = os.path.join(root, folder_verify, \"originals\")\n",
    "y_test_dir = os.path.join(root, folder_verify, \"labels\")\n",
    "test_nopv_dir = os.path.join(root, folder_verify, \"noPV\")\n",
    "\n",
    "X_test, Y_test, test_image_paths = load_eval_images(x_test_dir, y_test_dir, test_nopv_dir)"
   ]
  },
  {
   "cell_type": "code",
   "execution_count": 6,
   "metadata": {},
   "outputs": [],
   "source": [
    "ops = []\n",
    "\n",
    "def on_button_click_i(directory_dest, image, selector, noPV= False):\n",
    "    def on_button_click(b):\n",
    "        \n",
    "        if noPV:\n",
    "            from_original = os.path.join(root, folder_verify, \"noPV\", image)\n",
    "            to_original = os.path.join(root, directory_dest, \"noPV\", image)\n",
    "            shutil.move(from_original, to_original)\n",
    "            ops.append((from_original, to_original))\n",
    "        else :  \n",
    "            labelimage = image.replace(\".png\", \"_label.png\")\n",
    "\n",
    "            from_original = os.path.join(root, folder_verify, \"originals\", image)\n",
    "            to_original = os.path.join(root, directory_dest, \"originals\", image)\n",
    "\n",
    "            from_label = os.path.join(root, folder_verify, \"labels\", labelimage)\n",
    "            to_label = os.path.join(root, directory_dest, \"labels\" , labelimage)\n",
    "\n",
    "            shutil.move(from_original, to_original)\n",
    "            ops.append((from_original, to_original))\n",
    "\n",
    "            shutil.move(from_label, to_label)\n",
    "            ops.append((from_label, to_label))\n",
    "        \n",
    "        print(\"Moved :\", image)\n",
    "#         print(\"From :\", os.path.join(root, r\"SI_25_classes\\all_pv\", image))\n",
    "#         print(\"To : \", os.path.join(root, directory_dest, \"originals\", image))\n",
    "    return on_button_click\n",
    "\n",
    "def on_click_cancel(b, ops=ops):\n",
    "    op1 = ops[-2]\n",
    "    op2 = ops[-1]\n",
    "    \n",
    "    shutil.move(op1[1], op1[0])\n",
    "    print(\"Moved :\", op1[1])\n",
    "    print(\"Back to :\", op1[0])\n",
    "    \n",
    "    shutil.move(op2[1], op2[0])\n",
    "    print(\"Moved :\", op2[1])\n",
    "    print(\"Back to :\", op2[0])\n",
    "          \n",
    "    del ops[-1]\n",
    "    del ops[-1]\n",
    "\n",
    "def on_button_update(selector, value = 1):\n",
    "    def on_button_click(b):\n",
    "        selector.value = selector.value + value\n",
    "    return on_button_click"
   ]
  },
  {
   "cell_type": "code",
   "execution_count": 7,
   "metadata": {
    "scrolled": false
   },
   "outputs": [
    {
     "data": {
      "application/vnd.jupyter.widget-view+json": {
       "model_id": "14c2a64e152f44a4bc48aa8dca342867",
       "version_major": 2,
       "version_minor": 0
      },
      "text/plain": [
       "Button(button_style='success', description='Move to Dest', style=ButtonStyle(), tooltip='Click me')"
      ]
     },
     "metadata": {},
     "output_type": "display_data"
    },
    {
     "data": {
      "application/vnd.jupyter.widget-view+json": {
       "model_id": "55126a4036434693a61b071c4e0bca6a",
       "version_major": 2,
       "version_minor": 0
      },
      "text/plain": [
       "Button(button_style='danger', description='Keep in current folder', style=ButtonStyle(), tooltip='Click me')"
      ]
     },
     "metadata": {},
     "output_type": "display_data"
    },
    {
     "data": {
      "application/vnd.jupyter.widget-view+json": {
       "model_id": "4cfeb2c45e7c4ed4ace7e5689f48b292",
       "version_major": 2,
       "version_minor": 0
      },
      "text/plain": [
       "Button(button_style='warning', description='Undo Previous', style=ButtonStyle(), tooltip='Click me')"
      ]
     },
     "metadata": {},
     "output_type": "display_data"
    },
    {
     "data": {
      "application/vnd.jupyter.widget-view+json": {
       "model_id": "cfa4b2a5c18d47a1a7928b9bbe811f0f",
       "version_major": 2,
       "version_minor": 0
      },
      "text/plain": [
       "interactive(children=(IntText(value=0, description='Image :'), Dropdown(description='Dest:', options=('images_…"
      ]
     },
     "metadata": {},
     "output_type": "display_data"
    }
   ],
   "source": [
    "cmaplabel = LinearSegmentedColormap.from_list('mycmap', [(0,1, 0,c) for c in np.linspace(0,1,100)], N=5)\n",
    "norm = mpl.colors.Normalize(vmin=-2, vmax=1)\n",
    "colors = ['b','r','none', \"g\"]\n",
    "cmap = ListedColormap(colors)\n",
    "m = cm.ScalarMappable(norm=norm, cmap=cmap)\n",
    "\n",
    "beg_selector = widgets.IntText(\n",
    "                        value=0,\n",
    "                        description='Image :',\n",
    "                        disabled=False\n",
    "                    )\n",
    "\n",
    "directory_destination = widgets.Dropdown(\n",
    "    options= destination_folders,\n",
    "    value=destination_folders[0],\n",
    "    description='Dest:',\n",
    "    disabled=False\n",
    ")\n",
    "\n",
    "button_move = widgets.Button(\n",
    "    description='Move to Dest',\n",
    "    disabled=False,\n",
    "    button_style='success', # 'success', 'info', 'warning', 'danger' or ''\n",
    "    tooltip='Click me',\n",
    "    icon='' # (FontAwesome names without the `fa-` prefix)\n",
    ")\n",
    "\n",
    "button_keep = widgets.Button(\n",
    "    description='Keep in current folder',\n",
    "    disabled=False,\n",
    "    button_style='danger', # 'success', 'info', 'warning', 'danger' or ''\n",
    "    tooltip='Click me',\n",
    "    icon='' # (FontAwesome names without the `fa-` prefix)\n",
    ")\n",
    "\n",
    "button_undo = widgets.Button(\n",
    "    description='Undo Previous',\n",
    "    disabled=False,\n",
    "    button_style='warning', # 'success', 'info', 'warning', 'danger' or ''\n",
    "    tooltip='Click me',\n",
    "    icon='' # (FontAwesome names without the `fa-` prefix)\n",
    ")\n",
    "\n",
    "button_undo.on_click(on_click_cancel)\n",
    "button_undo.on_click(on_button_update(beg_selector, -1))\n",
    "\n",
    "button_keep.on_click(on_button_update(beg_selector, 1))\n",
    "\n",
    "display(button_move, button_keep, button_undo)\n",
    "\n",
    "@interact\n",
    "def interactive_image_threshold(i = beg_selector, dir_dest = directory_destination):\n",
    "    noPV = \"noPV\" in test_image_paths[i]\n",
    "    \n",
    "    imagename = os.path.basename(test_image_paths[i])\n",
    "    button_move._click_handlers.callbacks = [on_button_update(beg_selector, 1)]\n",
    "    button_move.on_click(on_button_click_i(dir_dest, imagename, beg_selector, noPV))\n",
    "\n",
    "    fig, ax = plt.subplots(1, 2, figsize=(16, 16))\n",
    "    ax[0].imshow(X_test[i][3:-3, 3:-3, :])\n",
    "\n",
    "    # Color Bar\n",
    "    divider = make_axes_locatable(ax[1])\n",
    "    cax = divider.append_axes(\"right\", size=\"7%\", pad=0.05)\n",
    "    cbar = plt.colorbar(m, cax=cax)\n",
    "    cbar.ax.get_yaxis().set_ticks([])\n",
    "    for j, lab in enumerate(['FN','FP','TN','TP']):\n",
    "        cbar.ax.text(-0.5, (4 * (j-2)) / 6, lab, ha='center', va='center', fontweight=\"bold\",\n",
    "                     color = \"white\" if lab != \"TN\" else \"black\")\n",
    "    cbar.ax.get_yaxis().labelpad = 15\n",
    "    cbar.ax.set_ylabel('Truth', rotation=270)\n",
    "\n",
    "    print(imagename)\n",
    "\n",
    "    ax[1].imshow(X_test[i][3:-3, 3:-3, :])\n",
    "    ax[1].imshow(Y_test[i, :, :, 1], cmap = cmaplabel)\n",
    "    ax[1].set_title((\"Label (i : %i)\" % i))"
   ]
  },
  {
   "cell_type": "code",
   "execution_count": null,
   "metadata": {},
   "outputs": [],
   "source": [
    "test_image_paths[0]"
   ]
  },
  {
   "cell_type": "code",
   "execution_count": null,
   "metadata": {},
   "outputs": [],
   "source": [
    "test_image_paths[0]"
   ]
  }
 ],
 "metadata": {
  "kernelspec": {
   "display_name": "py3",
   "language": "python",
   "name": "py3"
  },
  "language_info": {
   "codemirror_mode": {
    "name": "ipython",
    "version": 3
   },
   "file_extension": ".py",
   "mimetype": "text/x-python",
   "name": "python",
   "nbconvert_exporter": "python",
   "pygments_lexer": "ipython3",
   "version": "3.6.7"
  }
 },
 "nbformat": 4,
 "nbformat_minor": 4
}
